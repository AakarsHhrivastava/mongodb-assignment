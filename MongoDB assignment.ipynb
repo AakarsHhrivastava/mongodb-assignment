{
 "cells": [
  {
   "cell_type": "markdown",
   "id": "e87196a2-71f3-4aa8-9fb1-945370e3a27d",
   "metadata": {},
   "source": [
    "### Q1. What is MongoDB? Explain non-relational databases in short. In which scenarios it is preferred to use MongoDB over SQL databases?"
   ]
  },
  {
   "cell_type": "code",
   "execution_count": 1,
   "id": "caf2d998-5a59-45d8-8449-348e19e9f992",
   "metadata": {},
   "outputs": [],
   "source": [
    "#MongoDB is a popular non-relational database management system (DBMS) that falls under the category of NoSQL databases. It is designed to handle unstructured or semi-structured data and offers high scalability and flexibility."
   ]
  },
  {
   "cell_type": "code",
   "execution_count": 2,
   "id": "cf1fa47d-c912-46ac-b2a8-df01da2e9706",
   "metadata": {},
   "outputs": [],
   "source": [
    "#Non-relational databases, also known as NoSQL databases, are database management systems that store and manage data in a flexible, schema-less manner. Unlike traditional SQL databases, which rely on a fixed schema and structured data, NoSQL databases can handle unstructured, semi-structured, and rapidly changing data. They provide a flexible data model, horizontal scalability, and high availability."
   ]
  },
  {
   "cell_type": "code",
   "execution_count": 3,
   "id": "3a96dff1-6a58-4a53-89da-31c3d7fc4b9a",
   "metadata": {},
   "outputs": [],
   "source": [
    "# MongoDB is preferred over SQL databases in scenarios involving unstructured or semi-structured data, horizontal scalability, agile development, rapid prototyping, and real-time analytics. Its flexible data model and scalability features make it a popular choice for modern applications with dynamic and evolving data requirements.\n",
    "\n",
    "\n",
    "\n",
    "\n"
   ]
  },
  {
   "cell_type": "markdown",
   "id": "022b2812-1e76-45ce-b03d-8085dc4762e5",
   "metadata": {},
   "source": [
    "### Q2. State and Explain the features of MongoDB."
   ]
  },
  {
   "cell_type": "code",
   "execution_count": 4,
   "id": "8a82595b-6e46-4dbf-b7d1-65b2213cd354",
   "metadata": {},
   "outputs": [],
   "source": [
    "# MongoDB, a popular NoSQL database management system, offers a range of features that differentiate it from traditional SQL databases"
   ]
  },
  {
   "cell_type": "code",
   "execution_count": 5,
   "id": "f3692e69-eec2-46b5-9206-cf408627e9c3",
   "metadata": {},
   "outputs": [],
   "source": [
    "#Document-Oriented Model"
   ]
  },
  {
   "cell_type": "code",
   "execution_count": 8,
   "id": "1b6d18c5-d5ef-4669-baa0-2d8d9486b166",
   "metadata": {},
   "outputs": [],
   "source": [
    "#Schema Flexibility"
   ]
  },
  {
   "cell_type": "code",
   "execution_count": 9,
   "id": "36e37b69-0476-4520-a2dc-730d854d2116",
   "metadata": {},
   "outputs": [],
   "source": [
    "#High Scalability"
   ]
  },
  {
   "cell_type": "code",
   "execution_count": 10,
   "id": "1c3e7e13-fdd3-430e-92ae-4ca9e9df8db8",
   "metadata": {},
   "outputs": [],
   "source": [
    "#Flexible Data Model"
   ]
  },
  {
   "cell_type": "markdown",
   "id": "b5c7cb1a-5b3a-40db-a22f-69fff472217f",
   "metadata": {},
   "source": [
    "### Q3. Write a code to connect MongoDB to Python. Also, create a database and a collection in MongoDB."
   ]
  },
  {
   "cell_type": "code",
   "execution_count": 12,
   "id": "b3e6154b-5566-455b-bb16-5864a202a339",
   "metadata": {},
   "outputs": [],
   "source": [
    "import pymongo\n",
    "\n",
    "# Connect to MongoDB\n",
    "client = pymongo.MongoClient(\"mongodb://localhost:27017/\")\n",
    "\n",
    "# Create a database\n",
    "database = client[\"mydatabase\"]\n",
    "\n",
    "# Create a collection\n",
    "collection = database[\"mycollection\"]"
   ]
  },
  {
   "cell_type": "markdown",
   "id": "d9887943-865a-4b7e-9fb2-3ca2a7e6b846",
   "metadata": {},
   "source": [
    "### Q4. Using the database and the collection created in question number 3, write a code to insert one record, and insert many records. Use the find() and find_one() methods to print the inserted record."
   ]
  },
  {
   "cell_type": "code",
   "execution_count": null,
   "id": "f7531adc-636b-417e-806f-b0292a1cf975",
   "metadata": {},
   "outputs": [],
   "source": [
    "records_many = [\n",
    "    {\"name\": \"Alice\", \"age\": 25, \"city\": \"London\"},\n",
    "    {\"name\": \"Bob\", \"age\": 35, \"city\": \"Paris\"},\n",
    "    {\"name\": \"Eve\", \"age\": 28, \"city\": \"Berlin\"}\n",
    "]"
   ]
  },
  {
   "cell_type": "code",
   "execution_count": null,
   "id": "3612aaf3-f2bb-4f2a-a751-e05d61ce1a5c",
   "metadata": {},
   "outputs": [],
   "source": [
    "record_one = {\"name\": \"John\", \"age\": 30, \"city\": \"New York\"}\n",
    "inserted_record_one = collection.insert_one(record_one)\n",
    "print(\"Inserted Record ID (One):\", inserted_record_one.inserted_id)\n",
    "\n",
    "inserted_records_many = collection.insert_many(records_many)\n",
    "print(\"Inserted Record IDs (Many):\", inserted_records_many.inserted_ids)\n",
    "\n",
    "# Find and print the inserted records\n",
    "print(\"\\nInserted Record (One):\")\n",
    "found_record_one = collection.find_one({\"_id\": inserted_record_one.inserted_id})\n",
    "print(found_record_one)\n",
    "\n",
    "print(\"\\nInserted Records (Many):\")\n",
    "found_records_many = collection.find({})\n",
    "for record in found_records_many:\n",
    "    print(record)"
   ]
  },
  {
   "cell_type": "markdown",
   "id": "9cca7548-031b-454c-9594-7e2a36b605ee",
   "metadata": {},
   "source": [
    "### Q5. Explain how you can use the find() method to query the MongoDB database. Write a simple code to demonstrate this."
   ]
  },
  {
   "cell_type": "code",
   "execution_count": 18,
   "id": "2f2c6d57-ff53-45c3-a3a4-84b7adb6f274",
   "metadata": {},
   "outputs": [],
   "source": [
    "#The find() method in MongoDB is used to query the database and retrieve documents that match specific criteria"
   ]
  },
  {
   "cell_type": "markdown",
   "id": "2d6e5f48-0a35-4b55-9827-09f7d5873038",
   "metadata": {},
   "source": [
    "### Q6. Explain the sort() method. Give an example to demonstrate sorting in MongoDB."
   ]
  },
  {
   "cell_type": "code",
   "execution_count": 19,
   "id": "280f142f-3e6d-42ac-9ecc-01c20118c0a0",
   "metadata": {},
   "outputs": [],
   "source": [
    "#The sort() method in MongoDB is used to sort the documents in a collection based on one or more fields. It allows you to specify the sorting order (ascending or descending) for each field."
   ]
  },
  {
   "cell_type": "markdown",
   "id": "e548ad86-b37a-4bbb-8a93-4a16e7c0e99c",
   "metadata": {},
   "source": [
    "### Q7. Explain why delete_one(), delete_many(), and drop() is used."
   ]
  },
  {
   "cell_type": "code",
   "execution_count": 20,
   "id": "5d4fb725-edf4-4619-b84d-a7d272ae22ae",
   "metadata": {},
   "outputs": [],
   "source": [
    "#These methods are useful for managing data in MongoDB based on specific requirements. delete_one() and delete_many() are used when you want to remove specific documents from a collection based on a filter condition. drop() is used when you want to delete an entire collection and all its associated data. It is important to use these methods with caution, especially drop(), as data loss is permanent once the collection is dropped."
   ]
  },
  {
   "cell_type": "code",
   "execution_count": null,
   "id": "6962098d-8d28-41d2-85ba-4faf9ff1d53a",
   "metadata": {},
   "outputs": [],
   "source": []
  }
 ],
 "metadata": {
  "kernelspec": {
   "display_name": "Python 3 (ipykernel)",
   "language": "python",
   "name": "python3"
  },
  "language_info": {
   "codemirror_mode": {
    "name": "ipython",
    "version": 3
   },
   "file_extension": ".py",
   "mimetype": "text/x-python",
   "name": "python",
   "nbconvert_exporter": "python",
   "pygments_lexer": "ipython3",
   "version": "3.10.8"
  }
 },
 "nbformat": 4,
 "nbformat_minor": 5
}
